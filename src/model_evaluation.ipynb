{
 "cells": [
  {
   "cell_type": "code",
   "execution_count": 1,
   "id": "1c3bdf9c",
   "metadata": {},
   "outputs": [],
   "source": [
    "from pprint import pprint\n",
    "from evaluation_data import EvaluationData\n",
    "from evaluation_helper import EvaluationHelper"
   ]
  },
  {
   "cell_type": "markdown",
   "id": "540250a3",
   "metadata": {},
   "source": [
    "# Data evaluation"
   ]
  },
  {
   "cell_type": "code",
   "execution_count": 2,
   "id": "c2be95e5",
   "metadata": {},
   "outputs": [
    {
     "name": "stdout",
     "output_type": "stream",
     "text": [
      "{'number of entries': 802,\n",
      " 'number of false negative': 12,\n",
      " 'number of false positive': 249,\n",
      " 'number of true negative': 441,\n",
      " 'number of true positive': 100}\n"
     ]
    }
   ],
   "source": [
    "evaluation_data = EvaluationData()\n",
    "data = evaluation_data.data\n",
    "\n",
    "\n",
    "info = {\n",
    "    \"number of entries\":len(data),\n",
    "    \"number of true negative\":len(data[data[\"category\"] == \"true negative\"]),\n",
    "    \"number of true positive\":len(data[data[\"category\"] == \"true positive\"]),\n",
    "    \"number of false negative\":len(data[data[\"category\"] == \"false negative\"]),\n",
    "    \"number of false positive\":len(data[data[\"category\"] == \"false positive\"]),\n",
    "}\n",
    "pprint(info)"
   ]
  },
  {
   "cell_type": "markdown",
   "id": "c9eabdd7",
   "metadata": {},
   "source": [
    "# Model evaluation"
   ]
  },
  {
   "cell_type": "code",
   "execution_count": 3,
   "id": "3c0153a8",
   "metadata": {},
   "outputs": [
    {
     "name": "stdout",
     "output_type": "stream",
     "text": [
      "0.015942028985507246\n",
      "0.020289855072463767\n",
      "0.017391304347826087\n"
     ]
    }
   ],
   "source": [
    "model_columns = [\"ai_model1_alarm\", \"ai_model2_alarm\", \"ai_model3_alarm\"]\n",
    "for column in model_columns:\n",
    "    fpr = EvaluationHelper.get_false_positive_rate(data, model_column=column)\n",
    "    print(fpr)"
   ]
  },
  {
   "cell_type": "code",
   "execution_count": null,
   "id": "86d41a31",
   "metadata": {},
   "outputs": [],
   "source": []
  }
 ],
 "metadata": {
  "kernelspec": {
   "display_name": "env_menssana",
   "language": "python",
   "name": "python3"
  },
  "language_info": {
   "codemirror_mode": {
    "name": "ipython",
    "version": 3
   },
   "file_extension": ".py",
   "mimetype": "text/x-python",
   "name": "python",
   "nbconvert_exporter": "python",
   "pygments_lexer": "ipython3",
   "version": "3.12.11"
  }
 },
 "nbformat": 4,
 "nbformat_minor": 5
}
